{
 "cells": [
  {
   "cell_type": "code",
   "execution_count": 1,
   "id": "5da70a08-1895-4d1f-8f50-93e2134b2e23",
   "metadata": {},
   "outputs": [],
   "source": [
    "# design goals:\n",
    "#\n",
    "# - understandability\n",
    "# - modularity\n",
    "# - configurability"
   ]
  },
  {
   "cell_type": "markdown",
   "id": "780bb24e-c093-42ae-9b28-97e1af47ef25",
   "metadata": {},
   "source": [
    "# config"
   ]
  },
  {
   "cell_type": "code",
   "execution_count": null,
   "id": "d23353c1-78e9-48e3-86c6-179618874c8d",
   "metadata": {},
   "outputs": [],
   "source": [
    "from pathlib import Path"
   ]
  },
  {
   "cell_type": "code",
   "execution_count": null,
   "id": "2fe7d6f2-e089-4a19-85a8-5c30d598f563",
   "metadata": {},
   "outputs": [],
   "source": [
    "WORKSPACE_DIR=\"workspaces/default\"\n",
    "\n",
    "CONVERSION_OUTPUT_DIR = Path(f\"{WORKSPACE_DIR}/conversion\")\n",
    "CONVERSION_OUTPUT_DIR.mkdir(parents=True, exist_ok=True)\n",
    "\n",
    "CHUNKING_OUTPUT_DIR = Path(f\"{WORKSPACE_DIR}/chunking\")\n",
    "CHUNKING_OUTPUT_DIR.mkdir(exist_ok=True)\n",
    "\n",
    "SEED_EXAMPLE_OUTPUT_DIR = Path(f\"{WORKSPACE_DIR}/seed-examples\")\n",
    "SEED_EXAMPLE_OUTPUT_DIR.mkdir(exist_ok=True)\n",
    "\n",
    "SDG_OUTPUT_DIR = Path(f\"{WORKSPACE_DIR}/sdg\")\n",
    "SDG_OUTPUT_DIR.mkdir(exist_ok=True)\n"
   ]
  },
  {
   "cell_type": "markdown",
   "id": "b21ef7b6-4cea-412d-9535-e378c8a70193",
   "metadata": {},
   "source": [
    "# conversion "
   ]
  },
  {
   "cell_type": "code",
   "execution_count": null,
   "id": "66042fef-89dc-47e3-b2ce-bee1adec791a",
   "metadata": {},
   "outputs": [],
   "source": [
    "!pip install docling"
   ]
  },
  {
   "cell_type": "markdown",
   "id": "d150ec43-5b76-4fb8-898b-ccb9b6a7a906",
   "metadata": {},
   "source": [
    "This notebook uses [Docling](https://docling-project.github.io/docling/examples/custom_convert/) to convert any type of document into a Docling Document. A Docling Document is the representation of the document after conversion that can be exported as JSON. The JSON output of this notebook can then be used in others such as one that uses Docling's chunking methods."
   ]
  },
  {
   "cell_type": "code",
   "execution_count": null,
   "id": "29ffffd3-7870-47e3-846c-63873dbc2d2f",
   "metadata": {},
   "outputs": [],
   "source": [
    "from docling.document_converter import DocumentConverter, ConversionError, PdfFormatOption\n",
    "from docling.datamodel.base_models import InputFormat\n",
    "from docling.datamodel.pipeline_options import PdfPipelineOptions\n",
    "import json\n",
    "from pathlib import Path"
   ]
  },
  {
   "cell_type": "markdown",
   "id": "ba023916-c3ba-4397-a9bd-3ab59eae372d",
   "metadata": {},
   "source": [
    "First we set the paths for the documents we want to convert and where the JSON output should live."
   ]
  },
  {
   "cell_type": "code",
   "execution_count": null,
   "id": "549fa984-f023-4816-9683-b5956c7582c8",
   "metadata": {},
   "outputs": [],
   "source": [
    "doc_path = Path(\"/path/to/pdf\")\n",
    "output_dir = Path(\"/output/path\")\n",
    "\n",
    "files = []\n",
    "\n",
    "if doc_path.is_file():\n",
    "    files = [doc_path]\n",
    "else:\n",
    "    files = list(doc_path.rglob(\"*.pdf\"))\n",
    "print(f\"Files to convert: {files}\")"
   ]
  },
  {
   "cell_type": "markdown",
   "id": "dadc9718-e7b7-4300-9600-d5e2407f0dfb",
   "metadata": {},
   "source": [
    "Next we set the configuration options for our conversion pipeline. The PDF Conversion options set here are the defaults. More information about pipeline configuration can be found on Docling."
   ]
  },
  {
   "cell_type": "code",
   "execution_count": null,
   "id": "480de47e-2916-434a-9e62-26681eb6f246",
   "metadata": {},
   "outputs": [],
   "source": [
    "pipeline_options = PdfPipelineOptions()\n",
    "\n",
    "doc_converter = DocumentConverter(\n",
    "     format_options={\n",
    "         InputFormat.PDF: PdfFormatOption(\n",
    "             pipeline_options=pipeline_options\n",
    "         )\n",
    "     }\n",
    ")"
   ]
  },
  {
   "cell_type": "markdown",
   "id": "0cf876f0-dba6-475a-b439-21aa58cd72b9",
   "metadata": {},
   "source": [
    "Finally we convert every document into Docling JSON as long as it is a valid file type to be converted"
   ]
  },
  {
   "cell_type": "code",
   "execution_count": null,
   "id": "675d116e-43c2-453d-a004-f182afb05589",
   "metadata": {},
   "outputs": [],
   "source": [
    "for file in files:\n",
    "    try:\n",
    "        doc = doc_converter.convert(source=file).document\n",
    "        doc_dict = doc.export_to_dict()\n",
    "        json_output_path = output_dir / f\"{file.stem}.json\"\n",
    "        with open(json_output_path, \"w\") as f:\n",
    "            json.dump(doc_dict, f)\n",
    "            print(f\"Path of JSON output is: {Path(json_output_path).resolve()}\")\n",
    "    except ConversionError as e:\n",
    "        print(f\"Skipping file {file}\")"
   ]
  },
  {
   "cell_type": "code",
   "execution_count": null,
   "id": "be9bbcbd-9bdd-474e-9d44-5c9d5a2c03e5",
   "metadata": {},
   "outputs": [],
   "source": [
    "# chunking"
   ]
  },
  {
   "cell_type": "code",
   "execution_count": null,
   "id": "2a165c38-843b-4c89-a8ad-6195b998e284",
   "metadata": {},
   "outputs": [],
   "source": [
    "# authoring"
   ]
  },
  {
   "cell_type": "code",
   "execution_count": null,
   "id": "5149dbbf-5601-4aa5-b1e9-e454ea0a4529",
   "metadata": {},
   "outputs": [],
   "source": [
    "# sdg"
   ]
  }
 ],
 "metadata": {
  "kernelspec": {
   "display_name": "Python 3 (ipykernel)",
   "language": "python",
   "name": "python3"
  },
  "language_info": {
   "codemirror_mode": {
    "name": "ipython",
    "version": 3
   },
   "file_extension": ".py",
   "mimetype": "text/x-python",
   "name": "python",
   "nbconvert_exporter": "python",
   "pygments_lexer": "ipython3",
   "version": "3.11.9"
  }
 },
 "nbformat": 4,
 "nbformat_minor": 5
}
