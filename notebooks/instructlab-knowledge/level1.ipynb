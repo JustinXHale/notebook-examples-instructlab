{
 "cells": [
  {
   "cell_type": "code",
   "execution_count": 1,
   "id": "5da70a08-1895-4d1f-8f50-93e2134b2e23",
   "metadata": {},
   "outputs": [],
   "source": [
    "# design goals:\n",
    "#\n",
    "# - understandability\n",
    "# - modularity\n",
    "# - configurability"
   ]
  },
  {
   "cell_type": "code",
   "execution_count": null,
   "id": "0acd026f-65bd-4393-bb40-f8aa8bd6828b",
   "metadata": {},
   "outputs": [],
   "source": [
    "# config\n",
    "\n",
    "WORKSPACE_DIR=\"workspaces/default\"\n",
    "# replace with pathlib\n",
    "\n",
    "# mkdir etc"
   ]
  },
  {
   "cell_type": "code",
   "execution_count": null,
   "id": "012dbcdf-93d7-474f-9826-77866ceb815e",
   "metadata": {},
   "outputs": [],
   "source": [
    "# conversion\n",
    "\n",
    "CONVERSION_OUTPUT_DIR = f\"{WORKSPACE_DIR}/conversion\"\n",
    "# replace with pathlib"
   ]
  },
  {
   "cell_type": "code",
   "execution_count": null,
   "id": "be9bbcbd-9bdd-474e-9d44-5c9d5a2c03e5",
   "metadata": {},
   "outputs": [],
   "source": [
    "# chunking"
   ]
  },
  {
   "cell_type": "code",
   "execution_count": null,
   "id": "2a165c38-843b-4c89-a8ad-6195b998e284",
   "metadata": {},
   "outputs": [],
   "source": [
    "# authoring"
   ]
  },
  {
   "cell_type": "code",
   "execution_count": null,
   "id": "5149dbbf-5601-4aa5-b1e9-e454ea0a4529",
   "metadata": {},
   "outputs": [],
   "source": [
    "# sdg"
   ]
  }
 ],
 "metadata": {
  "kernelspec": {
   "display_name": "Python 3 (ipykernel)",
   "language": "python",
   "name": "python3"
  },
  "language_info": {
   "codemirror_mode": {
    "name": "ipython",
    "version": 3
   },
   "file_extension": ".py",
   "mimetype": "text/x-python",
   "name": "python",
   "nbconvert_exporter": "python",
   "pygments_lexer": "ipython3",
   "version": "3.11.9"
  }
 },
 "nbformat": 4,
 "nbformat_minor": 5
}
